{
 "cells": [
  {
   "cell_type": "markdown",
   "id": "3ca607ee",
   "metadata": {},
   "source": [
    "Soru 1 – Liste Metotları\n",
    "Bir sınıfta öğrencilerin notları şu şekilde tutuluyor:\n",
    "notlar = [85, 92, 76, 92, 100, 76, 85, 92]\n",
    "• Listedeki tekrar eden notları silip benzersiz bir liste oluşturun.\n",
    "• En yüksek ve en düşük notu bulun.\n",
    "• Notları küçükten büyüğe sıralayın.\n"
   ]
  },
  {
   "cell_type": "code",
   "execution_count": 1,
   "id": "327e2c25",
   "metadata": {},
   "outputs": [
    {
     "name": "stdout",
     "output_type": "stream",
     "text": [
      "unique_grades: [100, 92, 85, 76]\n",
      "max_grade: 100\n",
      "low_grade: 76\n",
      "sorted unique_grades: [76, 85, 92, 100]\n"
     ]
    }
   ],
   "source": [
    "grades = [85, 92, 76, 92, 100, 76, 85, 92]\n",
    "unique_grades  = list(set(grades))\n",
    "print(\"unique_grades:\", unique_grades)\n",
    "max_grade = max(unique_grades)\n",
    "print(\"max_grade:\", max_grade)\n",
    "low_grade = min(unique_grades)\n",
    "print(\"low_grade:\", low_grade)\n",
    "unique_grades.sort()\n",
    "print(\"sorted unique_grades:\", unique_grades)\n"
   ]
  },
  {
   "cell_type": "markdown",
   "id": "0c332d8c",
   "metadata": {},
   "source": [
    "Soru 2 – Sayılar\n",
    "Bir sayının Armstrong sayısı olup olmadığını kontrol eden bir Python fonksiyonu yazın.\n",
    "Armstrong sayısı: Her basamağının küplerinin toplamı kendisine eşit olan sayılar. Örn: 153 → 13+53+33 = 153"
   ]
  },
  {
   "cell_type": "code",
   "execution_count": null,
   "id": "f4c94117",
   "metadata": {},
   "outputs": [
    {
     "name": "stdout",
     "output_type": "stream",
     "text": [
      "True\n",
      "False\n"
     ]
    }
   ],
   "source": [
    "def is_armstrong_number(num):\n",
    "    #get digits\n",
    "    digits = [int(d) for d in str(num)]\n",
    "    #get length\n",
    "    num_digits = len(digits)\n",
    "    #calculate sum of powers\n",
    "    sum_of_powers = 0\n",
    "    for d in digits:\n",
    "        sum_of_powers += d ** num_digits\n",
    "    return sum_of_powers == num\n",
    "\n",
    "print(is_armstrong_number(153))  # True\n",
    "print(is_armstrong_number(123))  # False"
   ]
  },
  {
   "cell_type": "markdown",
   "id": "1c82e89d",
   "metadata": {},
   "source": [
    "Soru 3 – Kümeler\n",
    "Aşağıdaki iki küme verilmiştir:\n",
    "A = {\"Python\", \"R\", \"SQL\", \"Java\"}\n",
    "B = {\"C++\", \"Python\", \"JavaScript\", \"SQL\"}\n",
    "• Ortak dilleri bulun.\n",
    "• Sadece A’da olan dilleri listeleyin.\n",
    "• İki kümenin birleşimini alfabetik olarak yazdırın."
   ]
  },
  {
   "cell_type": "code",
   "execution_count": null,
   "id": "d21eb082",
   "metadata": {},
   "outputs": [
    {
     "name": "stdout",
     "output_type": "stream",
     "text": [
      "Intersection: {'Python', 'SQL'}\n",
      "Only in A: {'Java', 'R'}\n",
      "Union: ['C++', 'Java', 'JavaScript', 'Python', 'R', 'SQL']\n"
     ]
    }
   ],
   "source": [
    "A = {\"Python\", \"R\", \"SQL\", \"Java\"}\n",
    "B = {\"C++\", \"Python\", \"JavaScript\", \"SQL\"}\n",
    "\n",
    "# find intersection of A and B\n",
    "intersection = A.intersection(B)\n",
    "print(\"Intersection:\", intersection)\n",
    "\n",
    "# List the languages that are only in A.\n",
    "only_in_A = A.difference(B)\n",
    "print(\"Only in A:\", only_in_A)\n",
    "\n",
    "# Print the union of both sets in alphabetical order.\n",
    "union = A.union(B)\n",
    "print(\"Union:\", sorted(union))\n"
   ]
  },
  {
   "cell_type": "markdown",
   "id": "eb7d99bb",
   "metadata": {},
   "source": [
    "Soru 4 – Modüller\n",
    "• random modülünü kullanarak 1–100 arasında 10 rastgele sayı üretin.\n",
    "• Bu sayıların ortalamasını ve standart sapmasını statistics modülü ile hesaplayın."
   ]
  },
  {
   "cell_type": "code",
   "execution_count": 7,
   "id": "484d3f9f",
   "metadata": {},
   "outputs": [
    {
     "name": "stdout",
     "output_type": "stream",
     "text": [
      "Random Numbers: [20, 11, 58, 20, 6, 62, 63, 94, 65, 62]\n",
      "Mean: 46.1\n",
      "Standard Deviation: 29.414471117310796\n"
     ]
    }
   ],
   "source": [
    "\n",
    "import random\n",
    "import statistics\n",
    "\n",
    "random_numbers = []\n",
    "for _ in range(10):\n",
    "    random_numbers.append(random.randint(1, 100))\n",
    "\n",
    "mean = statistics.mean(random_numbers)\n",
    "stdev = statistics.stdev(random_numbers)\n",
    "\n",
    "print(\"Random Numbers:\", random_numbers)\n",
    "print(\"Mean:\", mean)\n",
    "print(\"Standard Deviation:\", stdev)"
   ]
  },
  {
   "cell_type": "markdown",
   "id": "60ba4dff",
   "metadata": {},
   "source": [
    "kelime_sayacı(metin) adında bir fonksiyon yazın. Fonksiyon verilen metindeki:\n",
    "• toplam kelime sayısını\n",
    "• en uzun kelimeyi\n",
    "• en sık geçen kelimeyi döndürsün."
   ]
  },
  {
   "cell_type": "code",
   "execution_count": 15,
   "id": "57e43450",
   "metadata": {},
   "outputs": [
    {
     "name": "stdout",
     "output_type": "stream",
     "text": [
      "['Bu', 'bir', 'örnek', 'metindir.', 'Metin,', 'kelime', 'sayacı', 'fonksiyonu', 'için', 'bir', 'test', 'metnidir.']\n",
      "Toplam Kelime Sayısı: 12\n",
      "En Uzun Kelime: fonksiyonu\n",
      "En Sık Geçen Kelime: bir\n"
     ]
    }
   ],
   "source": [
    "def kelime_sayacı(metin):\n",
    "    kelimeler = metin.split()\n",
    "    print(kelimeler)\n",
    "    toplam_kelime = len(kelimeler)\n",
    "    en_uzun_kelime = \"\"  \n",
    "    for i in kelimeler:  \n",
    "      if len(i) > len(en_uzun_kelime):  \n",
    "        en_uzun_kelime = i\n",
    "    en_sik_gecen_kelime = max(set(kelimeler), key=kelimeler.count)\n",
    "    \n",
    "    print(\"Toplam Kelime Sayısı:\", toplam_kelime)\n",
    "    print(\"En Uzun Kelime:\", en_uzun_kelime)\n",
    "    print(\"En Sık Geçen Kelime:\", en_sik_gecen_kelime)\n",
    "\n",
    "kelime_sayacı(\"Bu bir örnek metindir. Metin, kelime sayacı fonksiyonu için bir test metnidir.\")"
   ]
  },
  {
   "cell_type": "markdown",
   "id": "23bf031d",
   "metadata": {},
   "source": [
    "Soru 6 – Gömülü Fonksiyonlar\n",
    "Aşağıdaki liste için map, filter, sorted gibi gömülü fonksiyonları kullanarak: sayilar = [5, 12, 7, 18, 24, 3, 16]\n",
    "• Sadece çift sayıları filtreleyin.\n",
    "• Bu sayıların karelerini bulun.\n",
    "• Karelerini azalan sırada sıralayın."
   ]
  },
  {
   "cell_type": "code",
   "execution_count": 16,
   "id": "3f57028f",
   "metadata": {},
   "outputs": [
    {
     "name": "stdout",
     "output_type": "stream",
     "text": [
      "[576, 324, 256, 144]\n"
     ]
    }
   ],
   "source": [
    "numbers = [5, 12, 7, 18, 24, 3, 16]\n",
    "\n",
    "# filter even numbers\n",
    "even_numbers = list(filter(lambda x: x % 2 == 0, numbers))\n",
    "\n",
    "#get squares of even numbers\n",
    "squares = list(map(lambda x: x ** 2, even_numbers))\n",
    "\n",
    "# sort in descending order\n",
    "squares.sort(reverse=True)\n",
    "\n",
    "print(squares)"
   ]
  },
  {
   "cell_type": "markdown",
   "id": "eb042e66",
   "metadata": {},
   "source": [
    "Soru 7 – Lambda İfadeleri\n",
    "Aşağıdaki listeyi, her kelimenin uzunluğuna göre küçükten büyüğe sıralayın. kelimeler = [\"veri\", \"bilim\", \"analiz\", \"yapayzeka\", \"python\"]\n",
    "Bunu sorted + lambda ile yapın.\n"
   ]
  },
  {
   "cell_type": "code",
   "execution_count": null,
   "id": "793e97bb",
   "metadata": {},
   "outputs": [],
   "source": [
    "kelimeler = [\"veri\", \"bilim\", \"analiz\", \"yapayzeka\", \"python\"]\n",
    "sorted_kelimeler = sorted(kelimeler, key=lambda x: len(x))\n",
    "print(sorted_kelimeler)"
   ]
  },
  {
   "cell_type": "markdown",
   "id": "3ed063bf",
   "metadata": {},
   "source": [
    "Soru 8 – Metodlar\n",
    "Bir string içinde geçen tüm rakamları bulun ve bunların toplamını döndüren bir fonksiyon yazın.\n",
    "Örn: \"abc12def3\" → 12 + 3 = 15"
   ]
  },
  {
   "cell_type": "code",
   "execution_count": 20,
   "id": "0d61d3c8",
   "metadata": {},
   "outputs": [
    {
     "name": "stdout",
     "output_type": "stream",
     "text": [
      "15\n"
     ]
    }
   ],
   "source": [
    "\n",
    "def rakam_toplami(metin):\n",
    "    sayilar = []\n",
    "    gecici_sayi = \"\"\n",
    "\n",
    "    for karakter in metin + \" \":\n",
    "        if karakter.isdigit():\n",
    "            gecici_sayi += karakter\n",
    "        else:\n",
    "            if gecici_sayi:\n",
    "                sayilar.append(int(gecici_sayi))\n",
    "                gecici_sayi = \"\"\n",
    "    \n",
    "    return sum(sayilar)\n",
    "\n",
    "print(rakam_toplami(\"abc12def3\"))"
   ]
  }
 ],
 "metadata": {
  "kernelspec": {
   "display_name": "Python 3",
   "language": "python",
   "name": "python3"
  },
  "language_info": {
   "codemirror_mode": {
    "name": "ipython",
    "version": 3
   },
   "file_extension": ".py",
   "mimetype": "text/x-python",
   "name": "python",
   "nbconvert_exporter": "python",
   "pygments_lexer": "ipython3",
   "version": "3.11.4"
  }
 },
 "nbformat": 4,
 "nbformat_minor": 5
}
